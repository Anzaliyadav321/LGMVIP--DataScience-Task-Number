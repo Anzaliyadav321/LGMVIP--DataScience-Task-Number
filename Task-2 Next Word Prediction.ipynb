{
  "nbformat": 4,
  "nbformat_minor": 0,
  "metadata": {
    "colab": {
      "provenance": [],
      "gpuType": "T4",
      "authorship_tag": "ABX9TyPv45Py8Rwurd7vTDJV4d2S",
      "include_colab_link": true
    },
    "kernelspec": {
      "name": "python3",
      "display_name": "Python 3"
    },
    "language_info": {
      "name": "python"
    }
  },
  "cells": [
    {
      "cell_type": "markdown",
      "metadata": {
        "id": "view-in-github",
        "colab_type": "text"
      },
      "source": [
        "<a href=\"https://colab.research.google.com/github/Anzaliyadav321/LGMVIP-DataScience-Task-Number/blob/main/Task-2%20Next%20Word%20Prediction.ipynb\" target=\"_parent\"><img src=\"https://colab.research.google.com/assets/colab-badge.svg\" alt=\"Open In Colab\"/></a>"
      ]
    },
    {
      "cell_type": "markdown",
      "source": [
        "**Anjali Yadav**"
      ],
      "metadata": {
        "id": "JjqCKdAr0s7p"
      }
    },
    {
      "cell_type": "markdown",
      "source": [
        "**Next Word Prediction (Advanced - Level)**"
      ],
      "metadata": {
        "id": "CDDufM6x011a"
      }
    },
    {
      "cell_type": "markdown",
      "source": [
        "**Import Libraries**"
      ],
      "metadata": {
        "id": "Zc0hJRcQ1B1K"
      }
    },
    {
      "cell_type": "code",
      "execution_count": 55,
      "metadata": {
        "id": "ZCiAGj5XI-JH"
      },
      "outputs": [],
      "source": [
        "import numpy as np\n",
        "import pandas as pd\n",
        "import matplotlib.pyplot as plt\n",
        "import pickle\n",
        "import heapq\n",
        "import tensorflow as tf\n",
        "from nltk.tokenize import RegexpTokenizer\n",
        "from keras.models import Sequential, load_model\n",
        "from keras.layers.core import Dense, Activation\n",
        "from keras.layers import LSTM\n",
        "from keras.optimizers import RMSprop"
      ]
    },
    {
      "cell_type": "code",
      "source": [
        "#loading the data\n",
        "path = '/content/1661-0.txt'\n",
        "text = open(path, encoding='utf8').read().lower()\n",
        "print('length of the corpus is: ', len(text))"
      ],
      "metadata": {
        "colab": {
          "base_uri": "https://localhost:8080/"
        },
        "id": "eZUI3jaaJR7p",
        "outputId": "66dd3f2d-573c-45f2-88f9-8249f09ad235"
      },
      "execution_count": 56,
      "outputs": [
        {
          "output_type": "stream",
          "name": "stdout",
          "text": [
            "length of the corpus is:  581888\n"
          ]
        }
      ]
    },
    {
      "cell_type": "code",
      "source": [
        "#using tokenizers\n",
        "tokenizer = RegexpTokenizer(r'\\w+')\n",
        "words = tokenizer.tokenize(text)"
      ],
      "metadata": {
        "id": "KEJ5jWflJbTv"
      },
      "execution_count": 57,
      "outputs": []
    },
    {
      "cell_type": "code",
      "source": [
        "#getting unique words\n",
        "unique_words = np.unique(words)\n",
        "unique_word_index = dict((c, i) for i, c in enumerate(unique_words))"
      ],
      "metadata": {
        "id": "P35Z9wpJJt4C"
      },
      "execution_count": 58,
      "outputs": []
    },
    {
      "cell_type": "markdown",
      "source": [
        "**Feature engineering**"
      ],
      "metadata": {
        "id": "MG31qq681W-s"
      }
    },
    {
      "cell_type": "code",
      "source": [
        "LENGTH_WORD = 5\n",
        "prev_words = []\n",
        "next_words = []\n",
        "for i in range(len(words) - LENGTH_WORD):\n",
        "  prev_words.append(words[i:i + LENGTH_WORD])\n",
        "  next_words.append(words[i + LENGTH_WORD])\n",
        "\n",
        "print(prev_words[0])\n",
        "print(next_words[0])"
      ],
      "metadata": {
        "colab": {
          "base_uri": "https://localhost:8080/"
        },
        "id": "Aa02d8BjJuRd",
        "outputId": "512e2c31-cd11-4b75-f4b0-7d0b1eb00179"
      },
      "execution_count": 59,
      "outputs": [
        {
          "output_type": "stream",
          "name": "stdout",
          "text": [
            "['project', 'gutenberg', 's', 'the', 'adventures']\n",
            "of\n"
          ]
        }
      ]
    },
    {
      "cell_type": "markdown",
      "source": [
        "**X storing feature and Y storing Label**"
      ],
      "metadata": {
        "id": "cAhJHpDSbUKs"
      }
    },
    {
      "cell_type": "code",
      "source": [
        "X = np.zeros((len(prev_words), LENGTH_WORD, len(unique_words)), dtype=bool)\n",
        "Y = np.zeros((len(next_words), len(unique_words)), dtype=bool)\n",
        "for i, each_words in enumerate(prev_words):\n",
        "    for j, each_word in enumerate(each_words):\n",
        "        X[i, j, unique_word_index[each_word]] = 1\n",
        "    Y[i, unique_word_index[next_words[i]]] = 1"
      ],
      "metadata": {
        "id": "rUS1kTa0JulC"
      },
      "execution_count": 60,
      "outputs": []
    },
    {
      "cell_type": "code",
      "source": [
        "#single sequence\n",
        "print(X[0][0])"
      ],
      "metadata": {
        "colab": {
          "base_uri": "https://localhost:8080/"
        },
        "id": "6oOJ30zLJu09",
        "outputId": "1dfb1bfc-6a72-4d19-e9a5-a4d1f8624918"
      },
      "execution_count": 61,
      "outputs": [
        {
          "output_type": "stream",
          "name": "stdout",
          "text": [
            "[False False False ... False False False]\n"
          ]
        }
      ]
    },
    {
      "cell_type": "code",
      "source": [
        "print(Y[0])"
      ],
      "metadata": {
        "colab": {
          "base_uri": "https://localhost:8080/"
        },
        "id": "nRdungmrevhI",
        "outputId": "67ed5890-339b-45e7-c15f-99b6a264ea86"
      },
      "execution_count": 62,
      "outputs": [
        {
          "output_type": "stream",
          "name": "stdout",
          "text": [
            "[False False False ... False False False]\n"
          ]
        }
      ]
    },
    {
      "cell_type": "code",
      "source": [
        "X.shape"
      ],
      "metadata": {
        "colab": {
          "base_uri": "https://localhost:8080/"
        },
        "id": "mT45DRKme_jD",
        "outputId": "9d973595-4b20-45e5-c8b2-8aaae540439d"
      },
      "execution_count": 63,
      "outputs": [
        {
          "output_type": "execute_result",
          "data": {
            "text/plain": [
              "(109221, 5, 8201)"
            ]
          },
          "metadata": {},
          "execution_count": 63
        }
      ]
    },
    {
      "cell_type": "code",
      "source": [
        "Y.shape"
      ],
      "metadata": {
        "colab": {
          "base_uri": "https://localhost:8080/"
        },
        "id": "-vCvmkHffHSq",
        "outputId": "4ee4180d-e1b1-4f16-f4bb-65e666d71589"
      },
      "execution_count": 64,
      "outputs": [
        {
          "output_type": "execute_result",
          "data": {
            "text/plain": [
              "(109221, 8201)"
            ]
          },
          "metadata": {},
          "execution_count": 64
        }
      ]
    },
    {
      "cell_type": "markdown",
      "source": [
        "**Building and Training the Model**"
      ],
      "metadata": {
        "id": "rILA3MyRbhat"
      }
    },
    {
      "cell_type": "code",
      "source": [
        "model = Sequential()\n",
        "\n",
        "model.add(LSTM(128, input_shape=(LENGTH_WORD, len(unique_words))))\n",
        "model.add(Dense(len(unique_words)))\n",
        "model.add(Activation('softmax'))\n",
        "\n",
        "optimizer = RMSprop(lr=0.01) #model uses RMSprop as the optimizer\n",
        "\n",
        "model.compile(loss='categorical_crossentropy', optimizer=optimizer, metrics=['accuracy'])"
      ],
      "metadata": {
        "colab": {
          "base_uri": "https://localhost:8080/"
        },
        "id": "tyxUQ0XnJvBD",
        "outputId": "e8fd2907-36cb-4622-a439-fe9b0207565d"
      },
      "execution_count": 65,
      "outputs": [
        {
          "output_type": "stream",
          "name": "stderr",
          "text": [
            "/usr/local/lib/python3.10/dist-packages/keras/optimizers/legacy/rmsprop.py:143: UserWarning: The `lr` argument is deprecated, use `learning_rate` instead.\n",
            "  super().__init__(name, **kwargs)\n"
          ]
        }
      ]
    },
    {
      "cell_type": "markdown",
      "source": [
        "**Model Summary**"
      ],
      "metadata": {
        "id": "LKP2ig5NdP3U"
      }
    },
    {
      "cell_type": "code",
      "source": [
        "model.summary()"
      ],
      "metadata": {
        "colab": {
          "base_uri": "https://localhost:8080/"
        },
        "id": "4xnYg6RZJvOE",
        "outputId": "9aa31053-ccff-4c46-94bd-8a818ba2b5dc"
      },
      "execution_count": 66,
      "outputs": [
        {
          "output_type": "stream",
          "name": "stdout",
          "text": [
            "Model: \"sequential_1\"\n",
            "_________________________________________________________________\n",
            " Layer (type)                Output Shape              Param #   \n",
            "=================================================================\n",
            " lstm_1 (LSTM)               (None, 128)               4264960   \n",
            "                                                                 \n",
            " dense_1 (Dense)             (None, 8201)              1057929   \n",
            "                                                                 \n",
            " activation_1 (Activation)   (None, 8201)              0         \n",
            "                                                                 \n",
            "=================================================================\n",
            "Total params: 5,322,889\n",
            "Trainable params: 5,322,889\n",
            "Non-trainable params: 0\n",
            "_________________________________________________________________\n"
          ]
        }
      ]
    },
    {
      "cell_type": "markdown",
      "source": [
        "**Visualize the Model**"
      ],
      "metadata": {
        "id": "n0PHztzVdWs_"
      }
    },
    {
      "cell_type": "code",
      "source": [
        "\n",
        "tf.keras.utils.plot_model(\n",
        "     model,\n",
        "     show_shapes=True,\n",
        "     show_layer_names=True,\n",
        "  )"
      ],
      "metadata": {
        "colab": {
          "base_uri": "https://localhost:8080/",
          "height": 422
        },
        "id": "KH9DsIijJvaq",
        "outputId": "f453398a-2a81-403b-ea33-7caca8e76364"
      },
      "execution_count": 67,
      "outputs": [
        {
          "output_type": "execute_result",
          "data": {
            "image/png": "[encoded data removed]",
            "text/plain": [
              "<IPython.core.display.Image object>"
            ]
          },
          "metadata": {},
          "execution_count": 67
        }
      ]
    },
    {
      "cell_type": "markdown",
      "source": [
        "**Training the Model**"
      ],
      "metadata": {
        "id": "CjOjwpGTdknl"
      }
    },
    {
      "cell_type": "code",
      "source": [
        "history = model.fit(X, Y, validation_split=0.05, epochs=2, batch_size=128, shuffle=True).history"
      ],
      "metadata": {
        "colab": {
          "base_uri": "https://localhost:8080/"
        },
        "id": "1iU5WWSXJvnD",
        "outputId": "0ef87f21-0d84-435b-d270-673513dfbd01"
      },
      "execution_count": 68,
      "outputs": [
        {
          "output_type": "stream",
          "name": "stdout",
          "text": [
            "Epoch 1/2\n",
            "811/811 [==============================] - 284s 346ms/step - loss: 6.0249 - accuracy: 0.1060 - val_loss: 7.0498 - val_accuracy: 0.1031\n",
            "Epoch 2/2\n",
            "811/811 [==============================] - 275s 339ms/step - loss: 5.7847 - accuracy: 0.1478 - val_loss: 7.9818 - val_accuracy: 0.1060\n"
          ]
        }
      ]
    },
    {
      "cell_type": "markdown",
      "source": [
        "**saving and loading the model**"
      ],
      "metadata": {
        "id": "v2GX6GmPR5pl"
      }
    },
    {
      "cell_type": "code",
      "source": [
        "model.save('next_word_model.h5')\n",
        "pickle.dump(history, open(\"history.p\", \"wb\"))\n",
        "model = load_model('next_word_model.h5')\n",
        "history = pickle.load(open(\"history.p\", \"rb\"))"
      ],
      "metadata": {
        "id": "v4rzbG97Rs4A"
      },
      "execution_count": 69,
      "outputs": []
    },
    {
      "cell_type": "markdown",
      "source": [
        "**Model evaluation**"
      ],
      "metadata": {
        "id": "KZdhqTuKdyCd"
      }
    },
    {
      "cell_type": "code",
      "source": [
        "#accuracy plot curve for training and testing\n",
        "plt.plot(history['accuracy'])\n",
        "plt.plot(history['val_accuracy'])\n",
        "plt.title('model accuracy')\n",
        "plt.ylabel('accuracy')\n",
        "plt.xlabel('epoch')\n",
        "plt.legend(['train', 'test'])"
      ],
      "metadata": {
        "colab": {
          "base_uri": "https://localhost:8080/",
          "height": 489
        },
        "id": "m4dDls16YTA-",
        "outputId": "38abf47a-f145-4767-84f0-066eaca1353c"
      },
      "execution_count": 70,
      "outputs": [
        {
          "output_type": "execute_result",
          "data": {
            "text/plain": [
              "<matplotlib.legend.Legend at 0x7f8fb9a102b0>"
            ]
          },
          "metadata": {},
          "execution_count": 70
        },
        {
          "output_type": "display_data",
          "data": {
            "text/plain": [
              "<Figure size 640x480 with 1 Axes>"
            ],
            "image/png": "[encoded data removed]"
          },
          "metadata": {}
        }
      ]
    },
    {
      "cell_type": "code",
      "source": [
        "#loss plot curve for training and testing\n",
        "plt.plot(history['loss'])\n",
        "plt.plot(history['val_loss'])\n",
        "plt.title('model loss')\n",
        "plt.ylabel('loss')\n",
        "plt.xlabel('epoch')\n",
        "plt.legend(['train', 'test'])"
      ],
      "metadata": {
        "colab": {
          "base_uri": "https://localhost:8080/",
          "height": 489
        },
        "id": "ST8CZrxsabLS",
        "outputId": "5185966f-0645-4e7c-c10f-acf4f62dee51"
      },
      "execution_count": 71,
      "outputs": [
        {
          "output_type": "execute_result",
          "data": {
            "text/plain": [
              "<matplotlib.legend.Legend at 0x7f8fb9aa7730>"
            ]
          },
          "metadata": {},
          "execution_count": 71
        },
        {
          "output_type": "display_data",
          "data": {
            "text/plain": [
              "<Figure size 640x480 with 1 Axes>"
            ],
            "image/png": "[encoded data removed]"
          },
          "metadata": {}
        }
      ]
    },
    {
      "cell_type": "code",
      "source": [
        "# #performance of training dataset\n",
        "train_loss, train_acc = model.evaluate(X, Y)\n",
        "print('Train loss: ', train_loss)\n",
        "print('Train accuracy; ', train_acc)"
      ],
      "metadata": {
        "id": "nYn9ZS3hXrfI"
      },
      "execution_count": 72,
      "outputs": []
    },
    {
      "cell_type": "code",
      "source": [
        "# #performance of testing dataset\n",
        "loss_and_acc = model.evaluate(X,Y)\n",
        "print(\"Test Loss\", loss_and_acc[0])\n",
        "print(\"Test Accuracy\", loss_and_acc[1])\n"
      ],
      "metadata": {
        "id": "vJTWrbqDaq_V"
      },
      "execution_count": 73,
      "outputs": []
    },
    {
      "cell_type": "markdown",
      "source": [
        "**For Testing next word**"
      ],
      "metadata": {
        "id": "k7V6nSTYk8R4"
      }
    },
    {
      "cell_type": "code",
      "source": [
        "def prepare_input(text):\n",
        "    x = np.zeros((1, LENGTH_WORD, len(unique_words)))\n",
        "    for t, word in enumerate(text.split()):\n",
        "        print(word)\n",
        "        x[0, t, unique_word_index[word]] = 1\n",
        "    return x\n",
        "prepare_input(\"This is for a prediction\".lower())"
      ],
      "metadata": {
        "id": "-xcS3OO7v8IT",
        "colab": {
          "base_uri": "https://localhost:8080/"
        },
        "outputId": "804a1b03-8a2e-4929-e334-e7d203fc0765"
      },
      "execution_count": 74,
      "outputs": [
        {
          "output_type": "stream",
          "name": "stdout",
          "text": [
            "this\n",
            "is\n",
            "for\n",
            "a\n",
            "prediction\n"
          ]
        },
        {
          "output_type": "execute_result",
          "data": {
            "text/plain": [
              "array([[[0., 0., 0., ..., 0., 0., 0.],\n",
              "        [0., 0., 0., ..., 0., 0., 0.],\n",
              "        [0., 0., 0., ..., 0., 0., 0.],\n",
              "        [0., 0., 0., ..., 0., 0., 0.],\n",
              "        [0., 0., 0., ..., 0., 0., 0.]]])"
            ]
          },
          "metadata": {},
          "execution_count": 74
        }
      ]
    },
    {
      "cell_type": "code",
      "source": [
        "#to choose the best possible n words\n",
        "def sample(preds, top_n=3):\n",
        "  preds = np.asarray(preds).astype('float64')\n",
        "  preds = np.log(preds)\n",
        "  exp_preds = np.exp(preds)\n",
        "  preds = exp_preds / np.sum(exp_preds)\n",
        "\n",
        "  return heapq.nlargest(top_n, range(len(preds)), preds.take)"
      ],
      "metadata": {
        "id": "8j842bRZngCP"
      },
      "execution_count": 75,
      "outputs": []
    },
    {
      "cell_type": "code",
      "source": [
        "#function for prediction\n",
        "def predict_completions(text, n=3):\n",
        "  if text == \"\":\n",
        "    return(\"0\")\n",
        "  x = prepare_input(text)\n",
        "  preds = model.predict(x, verbose=0)[0]\n",
        "  next_indices = sample(preds, n)\n",
        "  # return [unique_word_index[idx] + predict_completions(text[1:] + unique_word_index[idx]) for idx in next_indices]\n",
        "  return[unique_words[idx] for idx in next_indices]  "
      ],
      "metadata": {
        "id": "878Wd6rOhAh4"
      },
      "execution_count": 76,
      "outputs": []
    },
    {
      "cell_type": "code",
      "source": [
        "#prediction\n",
        "quotes = [\n",
        "    \"Keep smiling because life is a beautiful thing and there's so much to smile about.\",\n",
        "    \"I'm not upset that you lied to me, I'm upset that from now on I can't believe you.\",\n",
        "    \"And those who were seen dancing were thought to be insane by those who could not hear the music.\",\n",
        "    \"It is hard enough to remember my opinions, without also remembering my reasons for them!\"\n",
        "]"
      ],
      "metadata": {
        "id": "bAbyeZxfnKfO"
      },
      "execution_count": 77,
      "outputs": []
    },
    {
      "cell_type": "code",
      "source": [
        "for q in quotes:\n",
        "    seq = \" \".join(tokenizer.tokenize(q.lower())[0:5])\n",
        "    print(seq)\n",
        "    print(\"next possible words: \", predict_completions(seq, 5))\n",
        "    print()"
      ],
      "metadata": {
        "id": "wWQvuT7gysy8",
        "colab": {
          "base_uri": "https://localhost:8080/"
        },
        "outputId": "9011163f-9670-46e3-afef-040fd778da86"
      },
      "execution_count": 78,
      "outputs": [
        {
          "output_type": "stream",
          "name": "stdout",
          "text": [
            "keep smiling because life is\n",
            "keep\n",
            "smiling\n",
            "because\n",
            "life\n",
            "is\n",
            "next possible words:  ['not', 'the', 'a', 'in', 'all']\n",
            "\n",
            "i m not upset that\n",
            "i\n",
            "m\n",
            "not\n",
            "upset\n",
            "that\n",
            "next possible words:  ['i', 'he', 'it', 'we', 'you']\n",
            "\n",
            "and those who were seen\n",
            "and\n",
            "those\n",
            "who\n",
            "were\n",
            "seen\n",
            "next possible words:  ['in', 'the', 'and', 'of', 'were']\n",
            "\n",
            "it is hard enough to\n",
            "it\n",
            "is\n",
            "hard\n",
            "enough\n",
            "to\n",
            "next possible words:  ['be', 'me', 'know', 'do', 'have']\n",
            "\n"
          ]
        }
      ]
    },
    {
      "cell_type": "code",
      "source": [],
      "metadata": {
        "id": "ewXLKsDVCq9X"
      },
      "execution_count": 78,
      "outputs": []
    }
  ]
}